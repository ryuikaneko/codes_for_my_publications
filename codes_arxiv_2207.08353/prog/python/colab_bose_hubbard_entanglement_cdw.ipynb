{
  "nbformat": 4,
  "nbformat_minor": 0,
  "metadata": {
    "colab": {
      "provenance": [],
      "collapsed_sections": []
    },
    "kernelspec": {
      "name": "python3",
      "display_name": "Python 3"
    },
    "language_info": {
      "name": "python"
    }
  },
  "cells": [
    {
      "cell_type": "code",
      "execution_count": 1,
      "metadata": {
        "id": "8HgeAjARCRby"
      },
      "outputs": [],
      "source": [
        "import numpy as np\n",
        "import time\n",
        "from numba import jit\n",
        "import matplotlib.pyplot as plt\n",
        "#import argparse"
      ]
    },
    {
      "cell_type": "code",
      "source": [
        "#def parse_args():\n",
        "#    parser = argparse.ArgumentParser(description=\"bose Hubbard model on a chain, dynamics\")\n",
        "#    parser.add_argument(\"-L\",metavar=\"L\",dest=\"L\",type=np.int64,default=8,help=\"set L(=8, size)\")\n",
        "#    parser.add_argument(\"-t\",metavar=\"t\",dest=\"t\",type=np.float64,default=0.0,help=\"set t(=0.0, time)\")\n",
        "#    return parser.parse_args()"
      ],
      "metadata": {
        "id": "l_-OXQKdCaKx"
      },
      "execution_count": 2,
      "outputs": []
    },
    {
      "cell_type": "code",
      "source": [
        "## from https://github.com/XanaduAI/thewalrus/blob/master/thewalrus/_permanent.py\n",
        "## use \"np.searchsorted\" instead of \".index\"\n",
        "\n",
        "@jit(nopython=True)\n",
        "def perm_bbfg(M):  # pragma: no cover\n",
        "    \"\"\"\n",
        "    Returns the permanent of a matrix using the bbfg formula in Gray ordering\n",
        "    The code is a re-implementation from a Python 2 code found in\n",
        "    `Permanent code golf\n",
        "    <https://codegolf.stackexchange.com/questions/97060/calculate-the-permanent-as-quickly-as-possible>`_\n",
        "    using Numba.\n",
        "    Args:\n",
        "        M (array) : a square array.\n",
        "    Returns:\n",
        "        float or complex: the permanent of a matrix ``M``\n",
        "    \"\"\"\n",
        "\n",
        "    n = len(M)\n",
        "    if n == 0:\n",
        "        return M.dtype.type(1.0)\n",
        "    row_comb = np.sum(M, 0)\n",
        "    total = 0\n",
        "    old_gray = 0\n",
        "    sign = +1\n",
        "    binary_power_dict = np.array([2**i for i in range(n)])\n",
        "    num_loops = 2 ** (n - 1)\n",
        "    for bin_index in range(1, num_loops + 1):\n",
        "        reduced = np.prod(row_comb)\n",
        "        total += sign * reduced\n",
        "        new_gray = bin_index ^ (bin_index // 2)\n",
        "        gray_diff = old_gray ^ new_gray\n",
        "        gray_diff_index = np.searchsorted(binary_power_dict,gray_diff)\n",
        "        new_vector = M[gray_diff_index]\n",
        "        direction = 2 * ((old_gray > new_gray) - (old_gray < new_gray))\n",
        "        for i in range(n):\n",
        "            row_comb[i] += new_vector[i] * direction\n",
        "        sign = -sign\n",
        "        old_gray = new_gray\n",
        "    return total / num_loops"
      ],
      "metadata": {
        "id": "OGtn-qJ1CfFQ"
      },
      "execution_count": 3,
      "outputs": []
    },
    {
      "cell_type": "code",
      "source": [
        "@jit(nopython=True)\n",
        "def calc_a_mi(L,L_A,tstep):\n",
        "    x = np.zeros((L,L), dtype = np.complex128)\n",
        "    for j in range(L):\n",
        "        for k in range(L):\n",
        "            x[j,k] = np.sin((j+1)*(k+1)*np.pi / (L+1))\n",
        "    x *= np.sqrt(2.0 / (L+1))\n",
        "    eps = np.array([-2.0 * np.cos((n+1) * np.pi / (L+1)) for n in range(L)])\n",
        "    y = x @ (np.diag(np.exp(1j * eps * tstep))) @ x\n",
        "    z = np.zeros((L,L), dtype = np.complex128)\n",
        "    for j in range(L):\n",
        "        for k in range(L):\n",
        "            for m in range(L_A):\n",
        "                z[j,k] += y[j,m].conjugate() * y[k,m]\n",
        "    dlt = np.eye(L,dtype=np.complex128)\n",
        "    a = np.vstack( (np.hstack((z,dlt-z)), np.hstack((dlt-z,z))) )\n",
        "    return a"
      ],
      "metadata": {
        "id": "oAsuLuMwC5nC"
      },
      "execution_count": 4,
      "outputs": []
    },
    {
      "cell_type": "code",
      "source": [
        "@jit(nopython=True)\n",
        "def calc_a_cdw(L,L_A,tstep):\n",
        "    x = np.zeros((L,L), dtype = np.complex128)\n",
        "    for j in range(L):\n",
        "        for k in range(L):\n",
        "            x[j,k] = np.sin((j+1)*(k+1)*np.pi / (L+1))\n",
        "    x *= np.sqrt(2.0 / (L+1))\n",
        "    eps = np.array([-2.0 * np.cos((n+1) * np.pi / (L+1)) for n in range(L)])\n",
        "    y = x @ (np.diag(np.exp(1j * eps * tstep))) @ x\n",
        "    z = np.zeros((L//2,L//2), dtype = np.complex128)\n",
        "    for j in range(L//2):\n",
        "        for k in range(L//2):\n",
        "            for m in range(L_A):\n",
        "                z[j,k] += y[2*j,m].conjugate() * y[2*k,m]\n",
        "    dlt = np.eye(L//2,dtype=np.complex128)\n",
        "    a = np.vstack( (np.hstack((z,dlt-z)), np.hstack((dlt-z,z))) )\n",
        "    return a"
      ],
      "metadata": {
        "id": "coseGYZ5EagN"
      },
      "execution_count": 5,
      "outputs": []
    },
    {
      "cell_type": "code",
      "source": [
        "def get_dat(L,L_A,ts):\n",
        "    start = time.time()\n",
        "    data = []\n",
        "    for tstep in ts:\n",
        "#        a = calc_a_cdw_mi(L,L_A,tstep)\n",
        "        a = calc_a_cdw(L,L_A,tstep)\n",
        "        data.append([tstep,-np.log(perm_bbfg(a).real)])\n",
        "    end = time.time()\n",
        "    return np.array(data), end-start"
      ],
      "metadata": {
        "id": "lqCrs08JDE1z"
      },
      "execution_count": 6,
      "outputs": []
    },
    {
      "cell_type": "code",
      "source": [
        "#def main():\n",
        "#    args = parse_args()\n",
        "#    L = args.L\n",
        "#    t = args.t\n",
        "#    data, calctime = get_dat(L,L//2,[t])\n",
        "#    np.savetxt(\"dat_ee_L\"+\"{}\".format(L)+\"_t\"+\"{}\".format(t),data)\n",
        "#    np.savetxt(\"dat_calctime_L\"+\"{}\".format(L)+\"_t\"+\"{}\".format(t),[calctime])\n",
        "#\n",
        "#if __name__ == \"__main__\":\n",
        "#    main()"
      ],
      "metadata": {
        "id": "B8sJ6ogrDSTH"
      },
      "execution_count": 7,
      "outputs": []
    },
    {
      "cell_type": "code",
      "source": [
        "L = 20\n",
        "ts = np.linspace(0,2*L,128+1)\n",
        "data, calctime = get_dat(L,L//2,ts)"
      ],
      "metadata": {
        "id": "EhozV0xWDb7v"
      },
      "execution_count": 8,
      "outputs": []
    },
    {
      "cell_type": "code",
      "source": [
        "#print(data)\n",
        "print(calctime)"
      ],
      "metadata": {
        "colab": {
          "base_uri": "https://localhost:8080/"
        },
        "id": "B8jcJ1qqGn5C",
        "outputId": "a6137df1-8da5-47f9-ca4e-6f81a08155ae"
      },
      "execution_count": 9,
      "outputs": [
        {
          "output_type": "stream",
          "name": "stdout",
          "text": [
            "21.33821177482605\n"
          ]
        }
      ]
    },
    {
      "cell_type": "code",
      "source": [
        "plt.xlabel(r\"time $t/L$\")\n",
        "plt.ylabel(r\"entropy $S/L$\")\n",
        "plt.xlim(np.min(data[:,0]/L),np.max(data[:,0]/L))\n",
        "plt.ylim(np.min(data[:,1]/L),np.max(data[:,1]/L)*1.1)\n",
        "plt.plot(data[:,0]/L,data[:,1]/L)\n",
        "plt.grid()\n",
        "plt.show()\n",
        "plt.close()"
      ],
      "metadata": {
        "colab": {
          "base_uri": "https://localhost:8080/",
          "height": 283
        },
        "id": "klxexI9eDsoX",
        "outputId": "caac1cf2-2242-4921-9ef0-71fe107c7d88"
      },
      "execution_count": 10,
      "outputs": [
        {
          "output_type": "display_data",
          "data": {
            "text/plain": [
              "<Figure size 432x288 with 1 Axes>"
            ],
            "image/png": "[encoded data removed]"
          },
          "metadata": {
            "needs_background": "light"
          }
        }
      ]
    },
    {
      "cell_type": "code",
      "source": [],
      "metadata": {
        "id": "JAztFU1hFdLh"
      },
      "execution_count": 10,
      "outputs": []
    }
  ]
}